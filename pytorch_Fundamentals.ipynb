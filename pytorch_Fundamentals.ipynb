{
  "nbformat": 4,
  "nbformat_minor": 0,
  "metadata": {
    "colab": {
      "provenance": [],
      "gpuType": "T4",
      "toc_visible": true,
      "authorship_tag": "ABX9TyMd+Eb9TJCfgqTbAJa7/9xB",
      "include_colab_link": true
    },
    "kernelspec": {
      "name": "python3",
      "display_name": "Python 3"
    },
    "language_info": {
      "name": "python"
    },
    "accelerator": "GPU"
  },
  "cells": [
    {
      "cell_type": "markdown",
      "metadata": {
        "id": "view-in-github",
        "colab_type": "text"
      },
      "source": [
        "<a href=\"https://colab.research.google.com/github/Bardala/PyTorch-for-Deep-Learning-Machine-Learning/blob/main/pytorch_Fundamentals.ipynb\" target=\"_parent\"><img src=\"https://colab.research.google.com/assets/colab-badge.svg\" alt=\"Open In Colab\"/></a>"
      ]
    },
    {
      "cell_type": "markdown",
      "source": [
        "# PyTorch Fundamentals\n",
        "Resources: https://www.learnpytorch.io/00_pytorch_fundamentals/\n",
        "\n",
        "## Discussion\n",
        "If you have a question:\n",
        "https://github.com/mrdbourke/pytorch-deep-learning/discussions"
      ],
      "metadata": {
        "id": "uQvdFYOb_RUv"
      }
    },
    {
      "cell_type": "code",
      "execution_count": null,
      "metadata": {
        "colab": {
          "base_uri": "https://localhost:8080/"
        },
        "id": "2M4R_dwK9gOg",
        "outputId": "afe9d329-68f7-4f2b-a516-ac46a9a472c7"
      },
      "outputs": [
        {
          "output_type": "stream",
          "name": "stdout",
          "text": [
            "2.0.1+cu118\n"
          ]
        }
      ],
      "source": [
        "import torch\n",
        "import pandas as pd\n",
        "import numpy as np\n",
        "import matplotlib.pyplot as plt\n",
        "print(torch.__version__)\n"
      ]
    },
    {
      "cell_type": "markdown",
      "source": [
        "# Introduction to Tensors\n",
        "## Creating Tensors\n",
        "PyTorch tensors are created using ```torch.Tensor()``` = https://pytorch.org/docs/stable/tensors.html"
      ],
      "metadata": {
        "id": "rLXWynBfStko"
      }
    },
    {
      "cell_type": "code",
      "source": [
        "# scalar\n",
        "scalar = torch.tensor(9)\n",
        "scalar"
      ],
      "metadata": {
        "colab": {
          "base_uri": "https://localhost:8080/"
        },
        "id": "mr2w9T8QTS_l",
        "outputId": "e701760f-9422-44df-fa8a-ac1d4aac6357"
      },
      "execution_count": null,
      "outputs": [
        {
          "output_type": "execute_result",
          "data": {
            "text/plain": [
              "tensor(9)"
            ]
          },
          "metadata": {},
          "execution_count": 2
        }
      ]
    },
    {
      "cell_type": "code",
      "source": [
        "scalar.ndim"
      ],
      "metadata": {
        "colab": {
          "base_uri": "https://localhost:8080/"
        },
        "id": "MGh3V-v8hOoV",
        "outputId": "c315aca4-455d-4868-a104-c36cc0c587e2"
      },
      "execution_count": null,
      "outputs": [
        {
          "output_type": "execute_result",
          "data": {
            "text/plain": [
              "0"
            ]
          },
          "metadata": {},
          "execution_count": 3
        }
      ]
    },
    {
      "cell_type": "code",
      "source": [
        "print(scalar.item())\n",
        "print(type(scalar.item()))"
      ],
      "metadata": {
        "colab": {
          "base_uri": "https://localhost:8080/"
        },
        "id": "cwrr5L_QhacQ",
        "outputId": "7bad907c-5637-46f6-b839-b6d6f27e67e9"
      },
      "execution_count": null,
      "outputs": [
        {
          "output_type": "stream",
          "name": "stdout",
          "text": [
            "9\n",
            "<class 'int'>\n"
          ]
        }
      ]
    },
    {
      "cell_type": "code",
      "source": [
        "vector = torch.tensor([7,7])\n",
        "vector"
      ],
      "metadata": {
        "colab": {
          "base_uri": "https://localhost:8080/"
        },
        "id": "3E1XbWuRiEHx",
        "outputId": "eb21c5d8-dc09-44c9-955e-81887b39aa23"
      },
      "execution_count": null,
      "outputs": [
        {
          "output_type": "execute_result",
          "data": {
            "text/plain": [
              "tensor([7, 7])"
            ]
          },
          "metadata": {},
          "execution_count": 5
        }
      ]
    },
    {
      "cell_type": "code",
      "source": [
        "vector.ndim"
      ],
      "metadata": {
        "colab": {
          "base_uri": "https://localhost:8080/"
        },
        "id": "fCakR5IvifP6",
        "outputId": "3edd6270-8361-4649-a0c5-44d4bb00e6ea"
      },
      "execution_count": null,
      "outputs": [
        {
          "output_type": "execute_result",
          "data": {
            "text/plain": [
              "1"
            ]
          },
          "metadata": {},
          "execution_count": 6
        }
      ]
    },
    {
      "cell_type": "markdown",
      "source": [
        "The shape tells you how the elements inside them are arranged."
      ],
      "metadata": {
        "id": "f2ySBN9dizAl"
      }
    },
    {
      "cell_type": "code",
      "source": [
        "vector.shape"
      ],
      "metadata": {
        "colab": {
          "base_uri": "https://localhost:8080/"
        },
        "id": "Vxj83zE6i1BX",
        "outputId": "a80fb4e9-f1cc-4a9b-c9b4-2e87a17625dc"
      },
      "execution_count": null,
      "outputs": [
        {
          "output_type": "execute_result",
          "data": {
            "text/plain": [
              "torch.Size([2])"
            ]
          },
          "metadata": {},
          "execution_count": 7
        }
      ]
    },
    {
      "cell_type": "code",
      "source": [
        "MATRIX = torch.tensor([[7,8],\n",
        "                       [9,10]])\n",
        "MATRIX"
      ],
      "metadata": {
        "colab": {
          "base_uri": "https://localhost:8080/"
        },
        "id": "x1QmcXF-iyhB",
        "outputId": "c169db6d-6096-428d-9dd6-eeb5d5b5c671"
      },
      "execution_count": null,
      "outputs": [
        {
          "output_type": "execute_result",
          "data": {
            "text/plain": [
              "tensor([[ 7,  8],\n",
              "        [ 9, 10]])"
            ]
          },
          "metadata": {},
          "execution_count": 8
        }
      ]
    },
    {
      "cell_type": "code",
      "source": [
        "print(MATRIX.ndim)\n",
        "MATRIX2 = torch.tensor([[1]])\n",
        "print(MATRIX2.ndim)"
      ],
      "metadata": {
        "colab": {
          "base_uri": "https://localhost:8080/"
        },
        "id": "gF45r9tRjT2F",
        "outputId": "bae1e71c-6f87-473b-ad40-0b685ac2ff3a"
      },
      "execution_count": null,
      "outputs": [
        {
          "output_type": "stream",
          "name": "stdout",
          "text": [
            "2\n",
            "2\n"
          ]
        }
      ]
    },
    {
      "cell_type": "markdown",
      "source": [
        "I want to stress that tensors can represent almost anything."
      ],
      "metadata": {
        "id": "arxsi5y8kTdb"
      }
    },
    {
      "cell_type": "code",
      "source": [
        "TENSOR = torch.tensor([[[1,2,3],\n",
        "                        [4,5,6],\n",
        "                        [7,8,9]]])\n",
        "TENSOR"
      ],
      "metadata": {
        "colab": {
          "base_uri": "https://localhost:8080/"
        },
        "id": "sEdPaQtVj1Nm",
        "outputId": "cf6c2114-d281-4e60-dc88-62d1e1bcc3b1"
      },
      "execution_count": null,
      "outputs": [
        {
          "output_type": "execute_result",
          "data": {
            "text/plain": [
              "tensor([[[1, 2, 3],\n",
              "         [4, 5, 6],\n",
              "         [7, 8, 9]]])"
            ]
          },
          "metadata": {},
          "execution_count": 10
        }
      ]
    },
    {
      "cell_type": "code",
      "source": [
        "print(TENSOR.ndim)\n",
        "print(TENSOR.shape)"
      ],
      "metadata": {
        "colab": {
          "base_uri": "https://localhost:8080/"
        },
        "id": "q3bIY05GWaNB",
        "outputId": "dea5d99a-2928-4656-e0c2-2aa970309c8c"
      },
      "execution_count": null,
      "outputs": [
        {
          "output_type": "stream",
          "name": "stdout",
          "text": [
            "3\n",
            "torch.Size([1, 3, 3])\n"
          ]
        }
      ]
    },
    {
      "cell_type": "code",
      "source": [
        "TENSOR[0][0][0]"
      ],
      "metadata": {
        "colab": {
          "base_uri": "https://localhost:8080/"
        },
        "id": "pgZhyI6QY4GQ",
        "outputId": "cc39ee05-2a43-45f5-edd5-0499321d3348"
      },
      "execution_count": null,
      "outputs": [
        {
          "output_type": "execute_result",
          "data": {
            "text/plain": [
              "tensor(1)"
            ]
          },
          "metadata": {},
          "execution_count": 12
        }
      ]
    },
    {
      "cell_type": "markdown",
      "source": [
        "#create my random tensor\n",
        "import torch\n",
        "radnom_tensor = torch.rand(size=(3,4))\n",
        "torch.rand(4,5)"
      ],
      "metadata": {
        "id": "s3Ya-LCwaxsd"
      }
    },
    {
      "cell_type": "code",
      "source": [
        "tpl = (3,4)\n",
        "random_tnsr = torch.rand(size=(3,4))\n",
        "rdm = torch.rand(size=(3,4))\n",
        "print(random_tnsr)\n",
        "print(rdm)\n",
        "print(rdm * torch.zeros(3,4))\n",
        "print(torch.rand(tpl))"
      ],
      "metadata": {
        "colab": {
          "base_uri": "https://localhost:8080/"
        },
        "id": "iIrOJy2e_SqP",
        "outputId": "082e2bc6-fbd1-458c-8221-b2bd1d509b20"
      },
      "execution_count": null,
      "outputs": [
        {
          "output_type": "stream",
          "name": "stdout",
          "text": [
            "tensor([[0.1105, 0.1532, 0.7193, 0.0882],\n",
            "        [0.9272, 0.3595, 0.4725, 0.1536],\n",
            "        [0.5533, 0.5976, 0.8772, 0.6150]])\n",
            "tensor([[0.6779, 0.8190, 0.8504, 0.5119],\n",
            "        [0.7446, 0.3675, 0.4902, 0.8060],\n",
            "        [0.9193, 0.1472, 0.4152, 0.9510]])\n",
            "tensor([[0., 0., 0., 0.],\n",
            "        [0., 0., 0., 0.],\n",
            "        [0., 0., 0., 0.]])\n",
            "tensor([[0.9061, 0.0529, 0.1904, 0.6084],\n",
            "        [0.9788, 0.0510, 0.2913, 0.4167],\n",
            "        [0.9569, 0.1033, 0.5472, 0.2828]])\n"
          ]
        }
      ]
    },
    {
      "cell_type": "code",
      "source": [
        "tpl = (224, 224, 3)\n",
        "img = torch.rand(size=tpl)\n",
        "print(img.ndim)\n",
        "print(img.shape)\n",
        "print(img.shape)\n",
        "print(img.dtype)\n"
      ],
      "metadata": {
        "colab": {
          "base_uri": "https://localhost:8080/"
        },
        "id": "DtnP5lvqByHF",
        "outputId": "ecda6a8b-8eb5-4f9a-8c27-0af3747de696"
      },
      "execution_count": null,
      "outputs": [
        {
          "output_type": "stream",
          "name": "stdout",
          "text": [
            "3\n",
            "torch.Size([224, 224, 3])\n",
            "torch.Size([224, 224, 3])\n",
            "torch.float32\n"
          ]
        }
      ]
    },
    {
      "cell_type": "code",
      "source": [
        "zeros = torch.zeros(3,4)\n",
        "zeros"
      ],
      "metadata": {
        "colab": {
          "base_uri": "https://localhost:8080/"
        },
        "id": "a5fEVA6tKWWr",
        "outputId": "ba9179a2-9f5f-4951-9b82-f1674014b669"
      },
      "execution_count": null,
      "outputs": [
        {
          "output_type": "execute_result",
          "data": {
            "text/plain": [
              "tensor([[0., 0., 0., 0.],\n",
              "        [0., 0., 0., 0.],\n",
              "        [0., 0., 0., 0.]])"
            ]
          },
          "metadata": {},
          "execution_count": 15
        }
      ]
    },
    {
      "cell_type": "code",
      "source": [
        "zeros * random_tnsr"
      ],
      "metadata": {
        "colab": {
          "base_uri": "https://localhost:8080/"
        },
        "id": "j9yhEKW-Kcrg",
        "outputId": "f8549ccd-929e-46ff-c84d-7dfd2d514d6b"
      },
      "execution_count": null,
      "outputs": [
        {
          "output_type": "execute_result",
          "data": {
            "text/plain": [
              "tensor([[0., 0., 0., 0.],\n",
              "        [0., 0., 0., 0.],\n",
              "        [0., 0., 0., 0.]])"
            ]
          },
          "metadata": {},
          "execution_count": 16
        }
      ]
    },
    {
      "cell_type": "code",
      "source": [
        "ones = torch.ones(3,4)\n",
        "ones"
      ],
      "metadata": {
        "colab": {
          "base_uri": "https://localhost:8080/"
        },
        "id": "4Hek-rCvKmik",
        "outputId": "186f4df9-ab7a-4e08-87f6-c47c154abbb1"
      },
      "execution_count": null,
      "outputs": [
        {
          "output_type": "execute_result",
          "data": {
            "text/plain": [
              "tensor([[1., 1., 1., 1.],\n",
              "        [1., 1., 1., 1.],\n",
              "        [1., 1., 1., 1.]])"
            ]
          },
          "metadata": {},
          "execution_count": 17
        }
      ]
    },
    {
      "cell_type": "markdown",
      "source": [
        "**tensor**\tan n-dimensional array of numbers\tcan be any number, a **0-dimension** tensor is a scalar, a **1-dimension** tensor is a vector"
      ],
      "metadata": {
        "id": "n2swoLl0lpqM"
      }
    },
    {
      "cell_type": "code",
      "source": [
        "zeros.dtype"
      ],
      "metadata": {
        "colab": {
          "base_uri": "https://localhost:8080/"
        },
        "id": "_HHPziGEKtXo",
        "outputId": "0af3fb66-8076-4c00-cc26-d95b4de58268"
      },
      "execution_count": null,
      "outputs": [
        {
          "output_type": "execute_result",
          "data": {
            "text/plain": [
              "torch.float32"
            ]
          },
          "metadata": {},
          "execution_count": 18
        }
      ]
    },
    {
      "cell_type": "markdown",
      "source": [
        "# Create a range of tensors and tensors-like\n"
      ],
      "metadata": {
        "id": "HwtFUbTNLeJc"
      }
    },
    {
      "cell_type": "code",
      "source": [
        "# Use torch.arange(), torch.range() is deprecated\n",
        "zero_to_ten_deprecated = torch.range(0, 10) # Note: this may return an error in the future\n",
        "\n",
        "# Create a range of values 0 to 10\n",
        "zero_to_ten = torch.arange(start=0, end=10, step=1)\n",
        "zero_to_ten"
      ],
      "metadata": {
        "id": "uNZC1gOgLo9I",
        "colab": {
          "base_uri": "https://localhost:8080/"
        },
        "outputId": "32667099-e5e9-4165-8ea4-3184885ca292"
      },
      "execution_count": null,
      "outputs": [
        {
          "output_type": "stream",
          "name": "stderr",
          "text": [
            "<ipython-input-19-a404776195c1>:2: UserWarning: torch.range is deprecated and will be removed in a future release because its behavior is inconsistent with Python's range builtin. Instead, use torch.arange, which produces values in [start, end).\n",
            "  zero_to_ten_deprecated = torch.range(0, 10) # Note: this may return an error in the future\n"
          ]
        },
        {
          "output_type": "execute_result",
          "data": {
            "text/plain": [
              "tensor([0, 1, 2, 3, 4, 5, 6, 7, 8, 9])"
            ]
          },
          "metadata": {},
          "execution_count": 19
        }
      ]
    },
    {
      "cell_type": "code",
      "source": [
        "#Train\n",
        "rng = torch.arange(0,10,2)\n",
        "print(rng)\n",
        "z_t = torch.zeros_like(rng)\n",
        "o_t = torch.ones_like(rng)\n",
        "print(z_t)\n",
        "print(o_t)"
      ],
      "metadata": {
        "colab": {
          "base_uri": "https://localhost:8080/"
        },
        "id": "IjC5k2QdDVku",
        "outputId": "093c6b82-d81b-4d2e-f0bd-f87af8a753f3"
      },
      "execution_count": null,
      "outputs": [
        {
          "output_type": "stream",
          "name": "stdout",
          "text": [
            "tensor([0, 2, 4, 6, 8])\n",
            "tensor([0, 0, 0, 0, 0])\n",
            "tensor([1, 1, 1, 1, 1])\n"
          ]
        }
      ]
    },
    {
      "cell_type": "markdown",
      "source": [
        "# Tensor datatypes"
      ],
      "metadata": {
        "id": "Szl8lqNXFQij"
      }
    },
    {
      "cell_type": "code",
      "source": [
        "# Default datatype for tensors is float32\n",
        "float_32_tensor = torch.tensor([3.0, 6.0, 9.0],\n",
        "                               dtype=None, # defaults to None, which is torch.float32 or whatever datatype is passed\n",
        "                               device=None, # defaults to None, which uses the default tensor type\n",
        "                               requires_grad=False) # if True, operations performed on the tensor are recorded\n",
        "\n",
        "float_32_tensor.shape, float_32_tensor.dtype, float_32_tensor.device"
      ],
      "metadata": {
        "id": "3qYwaovwFVeL",
        "colab": {
          "base_uri": "https://localhost:8080/"
        },
        "outputId": "7310ccde-94aa-462e-bfdc-284c55be8f39"
      },
      "execution_count": null,
      "outputs": [
        {
          "output_type": "execute_result",
          "data": {
            "text/plain": [
              "(torch.Size([3]), torch.float32, device(type='cpu'))"
            ]
          },
          "metadata": {},
          "execution_count": 21
        }
      ]
    },
    {
      "cell_type": "code",
      "source": [
        "float_16_tensor = torch.tensor([3.0, 6.0, 9.0],\n",
        "                               dtype=torch.float16) # torch.half would also work\n",
        "\n",
        "float_16_tensor.dtype"
      ],
      "metadata": {
        "colab": {
          "base_uri": "https://localhost:8080/"
        },
        "id": "QyU4nDKCyrn9",
        "outputId": "09aab774-a6af-4bae-b15f-d647febf9522"
      },
      "execution_count": null,
      "outputs": [
        {
          "output_type": "execute_result",
          "data": {
            "text/plain": [
              "torch.float16"
            ]
          },
          "metadata": {},
          "execution_count": 22
        }
      ]
    },
    {
      "cell_type": "markdown",
      "source": [
        "# Getting information from tensors"
      ],
      "metadata": {
        "id": "IhEuAC3Cy8U8"
      }
    },
    {
      "cell_type": "code",
      "source": [
        "# Create a tensor\n",
        "some_tensor = torch.rand(3, 4)\n",
        "\n",
        "# Find out details about it\n",
        "print(some_tensor)\n",
        "print(f\"Shape of tensor: {some_tensor.shape}\")\n",
        "print(f\"Datatype of tensor: {some_tensor.dtype}\")\n",
        "print(f\"Device tensor is stored on: {some_tensor.device}\") # will default to CPU"
      ],
      "metadata": {
        "colab": {
          "base_uri": "https://localhost:8080/"
        },
        "id": "dsZ6qSUey_Tb",
        "outputId": "1c99d9eb-575f-4bcc-bd60-0ecd1d5eeb9a"
      },
      "execution_count": null,
      "outputs": [
        {
          "output_type": "stream",
          "name": "stdout",
          "text": [
            "tensor([[0.0860, 0.9053, 0.2292, 0.8270],\n",
            "        [0.9768, 0.0754, 0.2156, 0.9701],\n",
            "        [0.6259, 0.1461, 0.8468, 0.4796]])\n",
            "Shape of tensor: torch.Size([3, 4])\n",
            "Datatype of tensor: torch.float32\n",
            "Device tensor is stored on: cpu\n"
          ]
        }
      ]
    },
    {
      "cell_type": "markdown",
      "source": [
        "\n",
        "Note: When you run into issues in PyTorch, it's very often one to do with one of the three attributes above. So when the error messages show up, sing yourself a little song called \"what, what, where\":\n",
        "\n",
        "- \"what shape are my tensors? what datatype are they and where are they stored? what shape, what datatype, where where where\""
      ],
      "metadata": {
        "id": "sA5CQ0vfzyeW"
      }
    },
    {
      "cell_type": "markdown",
      "source": [
        "# Manipulating tensors (tensor operations)"
      ],
      "metadata": {
        "id": "OpH9ElEp0NK0"
      }
    },
    {
      "cell_type": "code",
      "source": [
        "# Create a tensor of values and add a number to it\n",
        "tensor = torch.tensor([1, 2, 3])\n",
        "print(tensor + 10)\n",
        "print(tensor * 10)\n",
        "print(tensor - 10)\n",
        "print(tensor / 10)"
      ],
      "metadata": {
        "colab": {
          "base_uri": "https://localhost:8080/"
        },
        "id": "VdyeDry2z9F1",
        "outputId": "35ad3c50-2c8c-4de9-c1ce-7067abb0c702"
      },
      "execution_count": null,
      "outputs": [
        {
          "output_type": "stream",
          "name": "stdout",
          "text": [
            "tensor([11, 12, 13])\n",
            "tensor([10, 20, 30])\n",
            "tensor([-9, -8, -7])\n",
            "tensor([0.1000, 0.2000, 0.3000])\n"
          ]
        }
      ]
    },
    {
      "cell_type": "code",
      "source": [
        "# Can also use torch functions\n",
        "torch.multiply(tensor, 10)\n",
        "torch.mul(tensor, 10)"
      ],
      "metadata": {
        "colab": {
          "base_uri": "https://localhost:8080/"
        },
        "id": "3dhiOXpQ0yMT",
        "outputId": "b21a70aa-6b59-4d92-aa9f-43f006fe8245"
      },
      "execution_count": null,
      "outputs": [
        {
          "output_type": "execute_result",
          "data": {
            "text/plain": [
              "tensor([10, 20, 30])"
            ]
          },
          "metadata": {},
          "execution_count": 25
        }
      ]
    },
    {
      "cell_type": "code",
      "source": [
        "print(torch.add(tensor, 10))\n",
        "print(tensor * tensor)"
      ],
      "metadata": {
        "colab": {
          "base_uri": "https://localhost:8080/"
        },
        "id": "89rW6cj-1JM5",
        "outputId": "c1972787-4658-4397-e98d-63966c8a02a2"
      },
      "execution_count": null,
      "outputs": [
        {
          "output_type": "stream",
          "name": "stdout",
          "text": [
            "tensor([11, 12, 13])\n",
            "tensor([1, 4, 9])\n"
          ]
        }
      ]
    },
    {
      "cell_type": "markdown",
      "source": [
        "# Matrix multiplication (is all you need)"
      ],
      "metadata": {
        "id": "ukMguYLG1dAe"
      }
    },
    {
      "cell_type": "markdown",
      "source": [
        "\n",
        "PyTorch implements matrix multiplication functionality in the torch.matmul() method.\n",
        "\n",
        "The main two rules for matrix multiplication to remember are:\n",
        "\n",
        "1. The inner **dimensions** must match:\n",
        "- (3, 2) @ (3, 2) won't work\n",
        "- (2, 3) @ (3, 2) will work\n",
        "- (3, 2) @ (2, 3) will work\n",
        "\n",
        "2. The resulting matrix has the shape of the outer dimensions:\n",
        "- (2, 3) @ (3, 2) -> (2, 2)\n",
        "- (3, 2) @ (2, 3) -> (3, 3)\n",
        "\n",
        "Note: \"@\" in Python is the symbol for matrix multiplication."
      ],
      "metadata": {
        "id": "J9XRwIky1_zO"
      }
    },
    {
      "cell_type": "code",
      "source": [
        "import torch\n",
        "tensor = torch.tensor([1,2,3])\n",
        "print(tensor.shape)\n",
        "print(tensor.ndim)"
      ],
      "metadata": {
        "colab": {
          "base_uri": "https://localhost:8080/"
        },
        "id": "5orRg2TS1Ygr",
        "outputId": "01810b8e-1ebb-4f72-9735-cc4a50db9a01"
      },
      "execution_count": null,
      "outputs": [
        {
          "output_type": "stream",
          "name": "stdout",
          "text": [
            "torch.Size([3])\n",
            "1\n"
          ]
        }
      ]
    },
    {
      "cell_type": "code",
      "source": [
        "# Element-wise matrix multiplication\n",
        "tensor * tensor"
      ],
      "metadata": {
        "colab": {
          "base_uri": "https://localhost:8080/"
        },
        "id": "AsfM_B9a254P",
        "outputId": "17ff6464-680f-4dd6-b6ff-e9fab59d4c10"
      },
      "execution_count": null,
      "outputs": [
        {
          "output_type": "execute_result",
          "data": {
            "text/plain": [
              "tensor([1, 4, 9])"
            ]
          },
          "metadata": {},
          "execution_count": 28
        }
      ]
    },
    {
      "cell_type": "code",
      "source": [
        "# Matrix multiplication\n",
        "torch.matmul(tensor, tensor)"
      ],
      "metadata": {
        "colab": {
          "base_uri": "https://localhost:8080/"
        },
        "id": "zLxWLaPE27Ze",
        "outputId": "65ae273a-8bd9-483f-b62f-9dd93a3719df"
      },
      "execution_count": null,
      "outputs": [
        {
          "output_type": "execute_result",
          "data": {
            "text/plain": [
              "tensor(14)"
            ]
          },
          "metadata": {},
          "execution_count": 29
        }
      ]
    },
    {
      "cell_type": "code",
      "source": [
        "# Can also use the \"@\" symbol for matrix multiplication, though not recommended\n",
        "tensor @ tensor"
      ],
      "metadata": {
        "colab": {
          "base_uri": "https://localhost:8080/"
        },
        "id": "3usAk1xS3FDA",
        "outputId": "0b394a83-e07f-474b-f12f-c734174902bb"
      },
      "execution_count": null,
      "outputs": [
        {
          "output_type": "execute_result",
          "data": {
            "text/plain": [
              "tensor(14)"
            ]
          },
          "metadata": {},
          "execution_count": 30
        }
      ]
    },
    {
      "cell_type": "code",
      "source": [
        "%%time\n",
        "# Matrix multiplication by hand\n",
        "# (avoid doing operations with for loops at all cost, they are computationally expensive)\n",
        "value = 0\n",
        "for i in range(len(tensor)):\n",
        "  value += tensor[i] * tensor[i]\n",
        "value"
      ],
      "metadata": {
        "colab": {
          "base_uri": "https://localhost:8080/"
        },
        "id": "669NCL493OdV",
        "outputId": "0316f41a-ee0c-4246-862b-7bfa2d319009"
      },
      "execution_count": null,
      "outputs": [
        {
          "output_type": "stream",
          "name": "stdout",
          "text": [
            "CPU times: user 671 µs, sys: 0 ns, total: 671 µs\n",
            "Wall time: 605 µs\n"
          ]
        },
        {
          "output_type": "execute_result",
          "data": {
            "text/plain": [
              "tensor(14)"
            ]
          },
          "metadata": {},
          "execution_count": 31
        }
      ]
    },
    {
      "cell_type": "code",
      "source": [
        "%%time\n",
        "torch.matmul(tensor, tensor)"
      ],
      "metadata": {
        "colab": {
          "base_uri": "https://localhost:8080/"
        },
        "id": "pglXeI5L43lf",
        "outputId": "5840aaad-d98e-454c-ba95-f8257dfff113"
      },
      "execution_count": null,
      "outputs": [
        {
          "output_type": "stream",
          "name": "stdout",
          "text": [
            "CPU times: user 24 µs, sys: 4 µs, total: 28 µs\n",
            "Wall time: 31 µs\n"
          ]
        },
        {
          "output_type": "execute_result",
          "data": {
            "text/plain": [
              "tensor(14)"
            ]
          },
          "metadata": {},
          "execution_count": 32
        }
      ]
    },
    {
      "cell_type": "markdown",
      "source": [
        "# One of the most common errors in deep learning (shape errors)\n"
      ],
      "metadata": {
        "id": "EoVGlgtF5M0N"
      }
    },
    {
      "cell_type": "code",
      "source": [
        "# Shapes need to be in the right way\n",
        "tensor_A = torch.tensor([[1, 2],\n",
        "                         [3, 4],\n",
        "                         [5, 6]], dtype=torch.float32)\n",
        "\n",
        "tensor_B = torch.tensor([[7, 10],\n",
        "                         [8, 11],\n",
        "                         [9, 12]], dtype=torch.float32)\n",
        "\n",
        "print(tensor_A.shape)\n",
        "print(tensor_B.shape)\n",
        "# torch.matmul(tensor_A, tensor_B) # (this will error)"
      ],
      "metadata": {
        "colab": {
          "base_uri": "https://localhost:8080/"
        },
        "id": "X2QIYkUF5Pro",
        "outputId": "b3779e72-c376-420e-fcbd-44d56f6b3a32"
      },
      "execution_count": null,
      "outputs": [
        {
          "output_type": "stream",
          "name": "stdout",
          "text": [
            "torch.Size([3, 2])\n",
            "torch.Size([3, 2])\n"
          ]
        }
      ]
    },
    {
      "cell_type": "markdown",
      "source": [
        "## You can perform transposes in PyTorch using either:\n",
        "\n",
        "- torch.transpose(input, dim0, dim1) - where input is the desired tensor to transpose and dim0 and dim1 are the dimensions to be swapped.\n",
        "- tensor.T - where tensor is the desired tensor to transpose."
      ],
      "metadata": {
        "id": "3pxO7q0h-L3D"
      }
    },
    {
      "cell_type": "code",
      "source": [
        "# View tensor_A and tensor_B.T\n",
        "print(tensor_A)\n",
        "print(tensor_B.T)"
      ],
      "metadata": {
        "colab": {
          "base_uri": "https://localhost:8080/"
        },
        "id": "SrDMTNns9-Qo",
        "outputId": "4101cc40-6871-4cde-e1a4-855df168484d"
      },
      "execution_count": null,
      "outputs": [
        {
          "output_type": "stream",
          "name": "stdout",
          "text": [
            "tensor([[1., 2.],\n",
            "        [3., 4.],\n",
            "        [5., 6.]])\n",
            "tensor([[ 7.,  8.,  9.],\n",
            "        [10., 11., 12.]])\n"
          ]
        }
      ]
    },
    {
      "cell_type": "code",
      "source": [
        "# The operation works when tensor_B is transposed\n",
        "print(f\"Original shapes: tensor_A = {tensor_A.shape}, tensor_B = {tensor_B.shape}\\n\")\n",
        "print(f\"New shapes: tensor_A = {tensor_A.shape} (same as above), tensor_B.T = {tensor_B.T.shape}\\n\")\n",
        "print(f\"Multiplying: {tensor_A.shape} * {tensor_B.T.shape} <- inner dimensions match\\n\")\n",
        "print(\"Output:\\n\")\n",
        "output = torch.matmul(tensor_A, tensor_B.T)\n",
        "print(output)\n",
        "print(f\"\\nOutput shape: {output.shape}\")"
      ],
      "metadata": {
        "colab": {
          "base_uri": "https://localhost:8080/"
        },
        "id": "EZRMfZhe_DID",
        "outputId": "3a26fabd-b9ee-4803-8da9-169edc357e3b"
      },
      "execution_count": null,
      "outputs": [
        {
          "output_type": "stream",
          "name": "stdout",
          "text": [
            "Original shapes: tensor_A = torch.Size([3, 2]), tensor_B = torch.Size([3, 2])\n",
            "\n",
            "New shapes: tensor_A = torch.Size([3, 2]) (same as above), tensor_B.T = torch.Size([2, 3])\n",
            "\n",
            "Multiplying: torch.Size([3, 2]) * torch.Size([2, 3]) <- inner dimensions match\n",
            "\n",
            "Output:\n",
            "\n",
            "tensor([[ 27.,  30.,  33.],\n",
            "        [ 61.,  68.,  75.],\n",
            "        [ 95., 106., 117.]])\n",
            "\n",
            "Output shape: torch.Size([3, 3])\n"
          ]
        }
      ]
    },
    {
      "cell_type": "markdown",
      "source": [
        "\n",
        "You can also use torch.mm() which is a short for torch.matmul()."
      ],
      "metadata": {
        "id": "53GaPe0L_PL6"
      }
    },
    {
      "cell_type": "code",
      "source": [
        "# torch.mm is a shortcut for matmul\n",
        "torch.mm(tensor_A, tensor_B.T)"
      ],
      "metadata": {
        "colab": {
          "base_uri": "https://localhost:8080/"
        },
        "id": "21K9y7Ff_WTw",
        "outputId": "16fe6cdc-85f2-4de4-a6b6-94c3fb5ba781"
      },
      "execution_count": null,
      "outputs": [
        {
          "output_type": "execute_result",
          "data": {
            "text/plain": [
              "tensor([[ 27.,  30.,  33.],\n",
              "        [ 61.,  68.,  75.],\n",
              "        [ 95., 106., 117.]])"
            ]
          },
          "metadata": {},
          "execution_count": 36
        }
      ]
    },
    {
      "cell_type": "code",
      "source": [
        "# Since the linear layer starts with a random weights matrix, let's make it reproducible (more on this later)\n",
        "torch.manual_seed(42)\n",
        "# This uses matrix multiplication\n",
        "linear = torch.nn.Linear(in_features=2, # in_features = matches inner dimension of input\n",
        "                         out_features=6) # out_features = describes outer value\n",
        "x = tensor_A\n",
        "output = linear(x)\n",
        "print(f\"Input shape: {x.shape}\\n\")\n",
        "print(f\"Output:\\n{output}\\n\\nOutput shape: {output.shape}\")"
      ],
      "metadata": {
        "colab": {
          "base_uri": "https://localhost:8080/"
        },
        "id": "_bgryIQZBinp",
        "outputId": "5425db84-0eba-4d1a-b896-b504577e40cc"
      },
      "execution_count": null,
      "outputs": [
        {
          "output_type": "stream",
          "name": "stdout",
          "text": [
            "Input shape: torch.Size([3, 2])\n",
            "\n",
            "Output:\n",
            "tensor([[2.2368, 1.2292, 0.4714, 0.3864, 0.1309, 0.9838],\n",
            "        [4.4919, 2.1970, 0.4469, 0.5285, 0.3401, 2.4777],\n",
            "        [6.7469, 3.1648, 0.4224, 0.6705, 0.5493, 3.9716]],\n",
            "       grad_fn=<AddmmBackward0>)\n",
            "\n",
            "Output shape: torch.Size([3, 6])\n"
          ]
        }
      ]
    },
    {
      "cell_type": "code",
      "source": [
        "torch.manual_seed(42)\n",
        "linear = torch.nn.Linear(in_features=2,\n",
        "                         out_features=9)\n",
        "x = tensor_A\n",
        "out = linear(x)\n",
        "print(out)"
      ],
      "metadata": {
        "colab": {
          "base_uri": "https://localhost:8080/"
        },
        "id": "VE51sUkdnzYY",
        "outputId": "5b9a03f7-dad0-440d-ad67-edd36114f06f"
      },
      "execution_count": null,
      "outputs": [
        {
          "output_type": "stream",
          "name": "stdout",
          "text": [
            "tensor([[ 1.3843,  1.3137, -0.1953,  0.4034, -0.7014,  1.3484,  0.1558, -0.1847,\n",
            "          0.5545],\n",
            "        [ 3.6393,  2.2815, -0.2198,  0.5454, -0.4922,  2.8423,  1.3921,  0.2975,\n",
            "          1.8537],\n",
            "        [ 5.8944,  3.2493, -0.2443,  0.6874, -0.2830,  4.3362,  2.6285,  0.7798,\n",
            "          3.1529]], grad_fn=<AddmmBackward0>)\n"
          ]
        }
      ]
    },
    {
      "cell_type": "markdown",
      "source": [
        "# Finding the min, max, mean, sum, etc (aggregation)"
      ],
      "metadata": {
        "id": "HTqXrz3lpwae"
      }
    },
    {
      "cell_type": "code",
      "source": [
        "tbl = (3,3)\n",
        "tbl2 = (2,3)\n",
        "tnsA = torch.arange(0,100,10)\n",
        "tnsB = torch.rand(tbl)\n",
        "tnsC = torch.rand(tbl2)\n",
        "\n",
        "print('tnsA',tnsA ,'\\n')\n",
        "print('tnsB',tnsB,'\\n')\n",
        "print('tnsC',tnsC,'\\n')\n",
        "\n",
        "print(tnsA.min())\n",
        "print(tnsB.max())\n",
        "print(tnsB.mean())\n",
        "# print(tnsA.mean()) # it won't work\n",
        "print(tnsA.type(torch.float32).mean())\n",
        "print(f'''{tnsC.sum()}\n",
        "      ''')\n",
        "print(f'''{tnsA.sum()}\n",
        "      ''')\n",
        "\n",
        "print(f\"\"\"index of the max value in tnsC = {tnsC.argmax()}\n",
        "\"\"\")\n",
        "\n",
        "print(f'''index of the min value in tsnA = {tnsA.argmin()}\n",
        "''')"
      ],
      "metadata": {
        "colab": {
          "base_uri": "https://localhost:8080/"
        },
        "id": "_w4CEFRdp2xZ",
        "outputId": "fa15d865-7dc6-461a-ee5b-68a8eea9c37c"
      },
      "execution_count": null,
      "outputs": [
        {
          "output_type": "stream",
          "name": "stdout",
          "text": [
            "tnsA tensor([ 0, 10, 20, 30, 40, 50, 60, 70, 80, 90]) \n",
            "\n",
            "tnsB tensor([[0.1994, 0.5472, 0.0062],\n",
            "        [0.9516, 0.0753, 0.8860],\n",
            "        [0.5832, 0.3376, 0.8090]]) \n",
            "\n",
            "tnsC tensor([[0.5779, 0.9040, 0.5547],\n",
            "        [0.3423, 0.6343, 0.3644]]) \n",
            "\n",
            "tensor(0)\n",
            "tensor(0.9516)\n",
            "tensor(0.4884)\n",
            "tensor(45.)\n",
            "3.3776321411132812\n",
            "      \n",
            "450\n",
            "      \n",
            "index of the max value in tnsC = 1\n",
            "\n",
            "index of the min value in tsnA = 0\n",
            "\n"
          ]
        }
      ]
    },
    {
      "cell_type": "markdown",
      "source": [
        "# Change tensor datatype"
      ],
      "metadata": {
        "id": "YNdcRl3CvyMt"
      }
    },
    {
      "cell_type": "markdown",
      "source": [
        "See differant types\n",
        "https://pytorch.org/docs/stable/tensors.html\n"
      ],
      "metadata": {
        "id": "R3994k0pzSaC"
      }
    },
    {
      "cell_type": "code",
      "source": [
        "# Create a tensor and check its datatype\n",
        "tensor = torch.arange(10., 100., 10.)\n",
        "print(tensor.dtype, '\\n')\n",
        "\n",
        "# Create a float16 tensor\n",
        "tensor_float16 = tensor.type(torch.float16)\n",
        "print(tensor_float16,'\\n')\n",
        "\n",
        "# Create a int8 tensor\n",
        "tensor_int8 = tensor.type(torch.int8)\n",
        "print(tensor_int8,'\\n')\n",
        "\n",
        "t32 = tensor.type(torch.float)\n",
        "print(t32,'\\n')\n",
        "\n",
        "t64 = tensor.type(torch.double)\n",
        "print(t64,'\\n')\n",
        "\n",
        "cmp32 = tensor.type(torch.chalf)\n",
        "print(cmp32,'\\n')"
      ],
      "metadata": {
        "colab": {
          "base_uri": "https://localhost:8080/"
        },
        "id": "fTUrKhDYv3XN",
        "outputId": "4995ec76-1e88-4c96-802b-38dc1ec09649"
      },
      "execution_count": null,
      "outputs": [
        {
          "output_type": "stream",
          "name": "stdout",
          "text": [
            "torch.float32 \n",
            "\n",
            "tensor([10., 20., 30., 40., 50., 60., 70., 80., 90.], dtype=torch.float16) \n",
            "\n",
            "tensor([10, 20, 30, 40, 50, 60, 70, 80, 90], dtype=torch.int8) \n",
            "\n",
            "tensor([10., 20., 30., 40., 50., 60., 70., 80., 90.]) \n",
            "\n",
            "tensor([10., 20., 30., 40., 50., 60., 70., 80., 90.], dtype=torch.float64) \n",
            "\n",
            "tensor([10.+0.j, 20.+0.j, 30.+0.j, 40.+0.j, 50.+0.j, 60.+0.j, 70.+0.j, 80.+0.j, 90.+0.j],\n",
            "       dtype=torch.complex32) \n",
            "\n"
          ]
        },
        {
          "output_type": "stream",
          "name": "stderr",
          "text": [
            "<ipython-input-40-c98a979efaff>:19: UserWarning: ComplexHalf support is experimental and many operators don't support it yet. (Triggered internally at ../aten/src/ATen/EmptyTensor.cpp:31.)\n",
            "  cmp32 = tensor.type(torch.chalf)\n"
          ]
        }
      ]
    },
    {
      "cell_type": "markdown",
      "source": [
        "# Reshaping, stacking, squeezing and unsqueezing"
      ],
      "metadata": {
        "id": "Xo6KAOGjCIRZ"
      }
    },
    {
      "cell_type": "markdown",
      "source": [
        "- torch.**reshape**(input, shape):\tReshapes input to shape (if compatible), can also use torch.Tensor.reshape().\n",
        "- torch.Tensor.**view**(shape):\tReturns a view of the original tensor in a different shape but shares the same data as the original tensor.\n",
        "- torch.**stack**(tensors, dim=0):\tConcatenates a sequence of tensors along a new dimension (dim), all tensors must be same size.\n",
        "- torch.**squeeze**(input):\tSqueezes input to remove all the dimenions with value 1.\n",
        "- torch.**unsqueeze**(input, dim):\tReturns input with a dimension value of 1 added at dim.\n",
        "- torch.**permute**(input, dims):\tReturns a view of the original input with its dimensions permuted (rearranged) to dims."
      ],
      "metadata": {
        "id": "S66xj9l8cGzE"
      }
    },
    {
      "cell_type": "code",
      "source": [
        "t = torch.arange(0, 10, 3)\n",
        "print(t, '\\n', t.shape)\n",
        "\n",
        "reshaped_t = t.reshape(1,4)\n",
        "print('\\n',reshaped_t)\n",
        "\n",
        "view = t.view(1,4)\n",
        "print ('\\n', view)"
      ],
      "metadata": {
        "id": "wlj5PRaoCNA-",
        "colab": {
          "base_uri": "https://localhost:8080/"
        },
        "outputId": "32b6f4c6-f8fe-47e7-9a20-40a6bb600b97"
      },
      "execution_count": null,
      "outputs": [
        {
          "output_type": "stream",
          "name": "stdout",
          "text": [
            "tensor([0, 3, 6, 9]) \n",
            " torch.Size([4])\n",
            "\n",
            " tensor([[0, 3, 6, 9]])\n",
            "\n",
            " tensor([[0, 3, 6, 9]])\n"
          ]
        }
      ]
    },
    {
      "cell_type": "code",
      "source": [
        "# Changing view changes oringal tensor\n",
        "view[:, 0] = 5\n",
        "view, t"
      ],
      "metadata": {
        "colab": {
          "base_uri": "https://localhost:8080/"
        },
        "id": "cQDby9C1Zt7q",
        "outputId": "7e88286b-8a64-40e5-af0d-e71b2f77d852"
      },
      "execution_count": null,
      "outputs": [
        {
          "output_type": "execute_result",
          "data": {
            "text/plain": [
              "(tensor([[5, 3, 6, 9]]), tensor([5, 3, 6, 9]))"
            ]
          },
          "metadata": {},
          "execution_count": 42
        }
      ]
    },
    {
      "cell_type": "code",
      "source": [
        "stacked = torch.stack([t,t,t]) # dim=0 by default\n",
        "print(stacked)\n",
        "\n",
        "stacked = torch.stack([t,t], dim=1)\n",
        "print(stacked)\n",
        "\n",
        "stacked = torch.stack([t,t,t,t], dim=-2)\n",
        "print(stacked)"
      ],
      "metadata": {
        "colab": {
          "base_uri": "https://localhost:8080/"
        },
        "id": "6Ijzy-ZhaQK3",
        "outputId": "fce31348-9cf5-47e4-f88f-195e0a027260"
      },
      "execution_count": null,
      "outputs": [
        {
          "output_type": "stream",
          "name": "stdout",
          "text": [
            "tensor([[5, 3, 6, 9],\n",
            "        [5, 3, 6, 9],\n",
            "        [5, 3, 6, 9]])\n",
            "tensor([[5, 5],\n",
            "        [3, 3],\n",
            "        [6, 6],\n",
            "        [9, 9]])\n",
            "tensor([[5, 3, 6, 9],\n",
            "        [5, 3, 6, 9],\n",
            "        [5, 3, 6, 9],\n",
            "        [5, 3, 6, 9]])\n"
          ]
        }
      ]
    },
    {
      "cell_type": "code",
      "source": [
        "# to remove all single dimensions use squeeze(), to add a single dimension use unsqueeze()\n",
        "t = torch.rand((1,3))\n",
        "t, t.squeeze(), t.unsqueeze(dim=0)"
      ],
      "metadata": {
        "colab": {
          "base_uri": "https://localhost:8080/"
        },
        "id": "nEM8gTz4c-O_",
        "outputId": "de5d6c85-24f4-4db6-a9b9-b1faecd14c55"
      },
      "execution_count": null,
      "outputs": [
        {
          "output_type": "execute_result",
          "data": {
            "text/plain": [
              "(tensor([[0.7104, 0.9464, 0.7890]]),\n",
              " tensor([0.7104, 0.9464, 0.7890]),\n",
              " tensor([[[0.7104, 0.9464, 0.7890]]]))"
            ]
          },
          "metadata": {},
          "execution_count": 44
        }
      ]
    },
    {
      "cell_type": "code",
      "source": [
        "# use torch.permute to rearrange the order of axis values\n",
        "# if you change the values in the view, it will change the values of the original.\n",
        "tpl = (312, 233, 122)\n",
        "t = torch.rand(tpl)\n",
        "print(t.shape,'\\n')\n",
        "\n",
        "permuted = t.permute(2,0,1)\n",
        "print(permuted.shape, '\\n')\n"
      ],
      "metadata": {
        "colab": {
          "base_uri": "https://localhost:8080/"
        },
        "id": "5X8t9Zvzd3uv",
        "outputId": "5fecfec3-f745-4f16-f37a-3411277c867e"
      },
      "execution_count": null,
      "outputs": [
        {
          "output_type": "stream",
          "name": "stdout",
          "text": [
            "torch.Size([312, 233, 122]) \n",
            "\n",
            "torch.Size([122, 312, 233]) \n",
            "\n"
          ]
        }
      ]
    },
    {
      "cell_type": "markdown",
      "source": [
        "# Indexing (selecting data from tensors)"
      ],
      "metadata": {
        "id": "DZ9ANkNlmnEB"
      }
    },
    {
      "cell_type": "code",
      "source": [
        "x = torch.arange(1, 10).reshape(1, 3, 3)\n",
        "print(x, x.shape,'\\n')\n",
        "\n",
        "# Let's index bracket by bracket\n",
        "print(f\"First square bracket:\\n{x[0]}\")\n",
        "print(f\"Second square bracket: {x[0][0]}\")\n",
        "print(f\"Third square bracket: {x[0][0][0]}\")"
      ],
      "metadata": {
        "colab": {
          "base_uri": "https://localhost:8080/"
        },
        "id": "X21qXNRkmmxu",
        "outputId": "0c405711-67e9-42dd-d724-ad00f63ba0a8"
      },
      "execution_count": null,
      "outputs": [
        {
          "output_type": "stream",
          "name": "stdout",
          "text": [
            "tensor([[[1, 2, 3],\n",
            "         [4, 5, 6],\n",
            "         [7, 8, 9]]]) torch.Size([1, 3, 3]) \n",
            "\n",
            "First square bracket:\n",
            "tensor([[1, 2, 3],\n",
            "        [4, 5, 6],\n",
            "        [7, 8, 9]])\n",
            "Second square bracket: tensor([1, 2, 3])\n",
            "Third square bracket: 1\n"
          ]
        }
      ]
    },
    {
      "cell_type": "code",
      "source": [
        "# Get all values of 0th dimension and the 0 index of 1st dimension\n",
        "x[:, 0]"
      ],
      "metadata": {
        "colab": {
          "base_uri": "https://localhost:8080/"
        },
        "id": "XaFfbrApluWP",
        "outputId": "f9545cef-1b96-44da-8f55-fc0acb861f97"
      },
      "execution_count": null,
      "outputs": [
        {
          "output_type": "execute_result",
          "data": {
            "text/plain": [
              "tensor([[1, 2, 3]])"
            ]
          },
          "metadata": {},
          "execution_count": 47
        }
      ]
    },
    {
      "cell_type": "code",
      "source": [
        "# Get all values of 0th & 1st dimensions but only index 1 of 2nd dimension\n",
        "x[:, :, 1]"
      ],
      "metadata": {
        "colab": {
          "base_uri": "https://localhost:8080/"
        },
        "id": "eydJoXkFm4tB",
        "outputId": "665f4c75-4ca8-41fd-d348-15cd8c8752d2"
      },
      "execution_count": null,
      "outputs": [
        {
          "output_type": "execute_result",
          "data": {
            "text/plain": [
              "tensor([[2, 5, 8]])"
            ]
          },
          "metadata": {},
          "execution_count": 48
        }
      ]
    },
    {
      "cell_type": "code",
      "source": [
        "# Get index 0 of 0th and 1st dimension and all values of 2nd dimension\n",
        "x[0, 0, :] # same as x[0][0]"
      ],
      "metadata": {
        "colab": {
          "base_uri": "https://localhost:8080/"
        },
        "id": "q5Weh4BVnNxG",
        "outputId": "d4269df7-d9c1-4d7a-ef67-59975769209c"
      },
      "execution_count": null,
      "outputs": [
        {
          "output_type": "execute_result",
          "data": {
            "text/plain": [
              "tensor([1, 2, 3])"
            ]
          },
          "metadata": {},
          "execution_count": 49
        }
      ]
    },
    {
      "cell_type": "markdown",
      "source": [
        "# PyTorch tensors & NumPy"
      ],
      "metadata": {
        "id": "57h-i6sVn_rJ"
      }
    },
    {
      "cell_type": "code",
      "source": [
        "# NumPy array to tensor\n",
        "import torch\n",
        "import numpy as np\n",
        "array = np.arange(1.0, 8.0)\n",
        "tensor = torch.from_numpy(array)\n",
        "array, tensor"
      ],
      "metadata": {
        "colab": {
          "base_uri": "https://localhost:8080/"
        },
        "id": "rEfYrQrVoBgY",
        "outputId": "85e4d4fd-fa84-4826-ab8b-9305ca89b7c4"
      },
      "execution_count": null,
      "outputs": [
        {
          "output_type": "execute_result",
          "data": {
            "text/plain": [
              "(array([1., 2., 3., 4., 5., 6., 7.]),\n",
              " tensor([1., 2., 3., 4., 5., 6., 7.], dtype=torch.float64))"
            ]
          },
          "metadata": {},
          "execution_count": 50
        }
      ]
    },
    {
      "cell_type": "code",
      "source": [
        "f_32 = torch.from_numpy(array).type(torch.float)\n",
        "f_32"
      ],
      "metadata": {
        "colab": {
          "base_uri": "https://localhost:8080/"
        },
        "id": "K4tveffZom7M",
        "outputId": "59516827-4bec-46a3-b2e9-596f909e85cc"
      },
      "execution_count": null,
      "outputs": [
        {
          "output_type": "execute_result",
          "data": {
            "text/plain": [
              "tensor([1., 2., 3., 4., 5., 6., 7.])"
            ]
          },
          "metadata": {},
          "execution_count": 51
        }
      ]
    },
    {
      "cell_type": "code",
      "source": [
        "# Change the array, keep the tensor\n",
        "array = array + 1\n",
        "array, tensor"
      ],
      "metadata": {
        "colab": {
          "base_uri": "https://localhost:8080/"
        },
        "id": "Ccak0dE6pXCl",
        "outputId": "3ee7a88f-6575-4783-be92-c3aa515fcb7f"
      },
      "execution_count": null,
      "outputs": [
        {
          "output_type": "execute_result",
          "data": {
            "text/plain": [
              "(array([2., 3., 4., 5., 6., 7., 8.]),\n",
              " tensor([1., 2., 3., 4., 5., 6., 7.], dtype=torch.float64))"
            ]
          },
          "metadata": {},
          "execution_count": 52
        }
      ]
    },
    {
      "cell_type": "code",
      "source": [
        "# Tensor to NumPy array\n",
        "tensor = torch.ones(7) # create a tensor of ones with dtype=float32\n",
        "numpy_tensor = tensor.numpy() # will be dtype=float32 unless changed\n",
        "tensor, numpy_tensor"
      ],
      "metadata": {
        "colab": {
          "base_uri": "https://localhost:8080/"
        },
        "id": "iSSSGefUpfXZ",
        "outputId": "9cea951b-04b6-47e2-c18e-0b4d517c4215"
      },
      "execution_count": null,
      "outputs": [
        {
          "output_type": "execute_result",
          "data": {
            "text/plain": [
              "(tensor([1., 1., 1., 1., 1., 1., 1.]),\n",
              " array([1., 1., 1., 1., 1., 1., 1.], dtype=float32))"
            ]
          },
          "metadata": {},
          "execution_count": 53
        }
      ]
    },
    {
      "cell_type": "code",
      "source": [
        "# Change the tensor, keep the array the same\n",
        "tensor = tensor + 1\n",
        "tensor, numpy_tensor"
      ],
      "metadata": {
        "colab": {
          "base_uri": "https://localhost:8080/"
        },
        "id": "AHJzfvM7pf9G",
        "outputId": "f7ef3707-43dd-4f8d-ffcc-bfc9992140f8"
      },
      "execution_count": null,
      "outputs": [
        {
          "output_type": "execute_result",
          "data": {
            "text/plain": [
              "(tensor([2., 2., 2., 2., 2., 2., 2.]),\n",
              " array([1., 1., 1., 1., 1., 1., 1.], dtype=float32))"
            ]
          },
          "metadata": {},
          "execution_count": 54
        }
      ]
    },
    {
      "cell_type": "markdown",
      "source": [
        "#Reproducibility (trying to take the random out of random)\n"
      ],
      "metadata": {
        "id": "2wxeCBcKpoNa"
      }
    },
    {
      "cell_type": "code",
      "source": [
        "import torch\n",
        "\n",
        "# Create two random tensors\n",
        "random_tensor_A = torch.rand(3, 4)\n",
        "random_tensor_B = torch.rand(3, 4)\n",
        "\n",
        "print(f\"Tensor A:\\n{random_tensor_A}\\n\")\n",
        "print(f\"Tensor B:\\n{random_tensor_B}\\n\")\n",
        "print(f\"Does Tensor A equal Tensor B? (anywhere)\")\n",
        "random_tensor_A == random_tensor_B"
      ],
      "metadata": {
        "colab": {
          "base_uri": "https://localhost:8080/"
        },
        "id": "rRH0GJ-QppUi",
        "outputId": "05a54222-26a4-4e7d-91ce-0692d7bf57f1"
      },
      "execution_count": null,
      "outputs": [
        {
          "output_type": "stream",
          "name": "stdout",
          "text": [
            "Tensor A:\n",
            "tensor([[0.5171, 0.7149, 0.8168, 0.4533],\n",
            "        [0.2111, 0.8753, 0.5897, 0.3591],\n",
            "        [0.2747, 0.6359, 0.4608, 0.2443]])\n",
            "\n",
            "Tensor B:\n",
            "tensor([[0.0877, 0.7661, 0.4528, 0.1570],\n",
            "        [0.7519, 0.3985, 0.6505, 0.6506],\n",
            "        [0.2903, 0.1924, 0.7707, 0.7683]])\n",
            "\n",
            "Does Tensor A equal Tensor B? (anywhere)\n"
          ]
        },
        {
          "output_type": "execute_result",
          "data": {
            "text/plain": [
              "tensor([[False, False, False, False],\n",
              "        [False, False, False, False],\n",
              "        [False, False, False, False]])"
            ]
          },
          "metadata": {},
          "execution_count": 55
        }
      ]
    },
    {
      "cell_type": "code",
      "source": [
        "import torch\n",
        "import random\n",
        "\n",
        "# # Set the random seed\n",
        "RANDOM_SEED=42 # try changing this to different values and see what happens to the numbers below\n",
        "torch.manual_seed(seed=RANDOM_SEED)\n",
        "random_tensor_C = torch.rand(3, 4)\n",
        "\n",
        "# Have to reset the seed every time a new rand() is called\n",
        "# Without this, tensor_D would be different to tensor_C\n",
        "torch.random.manual_seed(seed=RANDOM_SEED) # try commenting this line out and seeing what happens\n",
        "random_tensor_D = torch.rand(3, 4)\n",
        "\n",
        "print(f\"Tensor C:\\n{random_tensor_C}\\n\")\n",
        "print(f\"Tensor D:\\n{random_tensor_D}\\n\")\n",
        "print(f\"Does Tensor C equal Tensor D? (anywhere)\")\n",
        "random_tensor_C == random_tensor_D"
      ],
      "metadata": {
        "colab": {
          "base_uri": "https://localhost:8080/"
        },
        "id": "OvaoYpu9rg-f",
        "outputId": "57270e46-2a47-4ec6-c78b-ce13e3997d76"
      },
      "execution_count": null,
      "outputs": [
        {
          "output_type": "stream",
          "name": "stdout",
          "text": [
            "Tensor C:\n",
            "tensor([[0.8823, 0.9150, 0.3829, 0.9593],\n",
            "        [0.3904, 0.6009, 0.2566, 0.7936],\n",
            "        [0.9408, 0.1332, 0.9346, 0.5936]])\n",
            "\n",
            "Tensor D:\n",
            "tensor([[0.8823, 0.9150, 0.3829, 0.9593],\n",
            "        [0.3904, 0.6009, 0.2566, 0.7936],\n",
            "        [0.9408, 0.1332, 0.9346, 0.5936]])\n",
            "\n",
            "Does Tensor C equal Tensor D? (anywhere)\n"
          ]
        },
        {
          "output_type": "execute_result",
          "data": {
            "text/plain": [
              "tensor([[True, True, True, True],\n",
              "        [True, True, True, True],\n",
              "        [True, True, True, True]])"
            ]
          },
          "metadata": {},
          "execution_count": 56
        }
      ]
    },
    {
      "cell_type": "code",
      "source": [
        "tpl = (3,3)\n",
        "randomSeed= 22\n",
        "torch.random.manual_seed(randomSeed)\n",
        "c = torch.rand(tpl)\n",
        "\n",
        "torch.random.manual_seed(randomSeed)\n",
        "d = torch.rand(tpl)\n",
        "\n",
        "c, d, c == d"
      ],
      "metadata": {
        "colab": {
          "base_uri": "https://localhost:8080/"
        },
        "id": "KzW_L3whrx_P",
        "outputId": "26c25f70-46f0-48fc-d765-f997af754483"
      },
      "execution_count": null,
      "outputs": [
        {
          "output_type": "execute_result",
          "data": {
            "text/plain": [
              "(tensor([[0.3659, 0.7025, 0.3104],\n",
              "         [0.0097, 0.6577, 0.1947],\n",
              "         [0.9506, 0.6887, 0.8174]]),\n",
              " tensor([[0.3659, 0.7025, 0.3104],\n",
              "         [0.0097, 0.6577, 0.1947],\n",
              "         [0.9506, 0.6887, 0.8174]]),\n",
              " tensor([[True, True, True],\n",
              "         [True, True, True],\n",
              "         [True, True, True]]))"
            ]
          },
          "metadata": {},
          "execution_count": 57
        }
      ]
    },
    {
      "cell_type": "markdown",
      "source": [
        "# Running tensors on GPUs (and making faster computations)"
      ],
      "metadata": {
        "id": "IN6-1TB4OW8c"
      }
    },
    {
      "cell_type": "markdown",
      "source": [
        "## Putting tensors (and models) on the GPU"
      ],
      "metadata": {
        "id": "A1Ev58PVNp20"
      }
    },
    {
      "cell_type": "code",
      "source": [
        "# Check for GPU\n",
        "import torch\n",
        "torch.cuda.is_available()"
      ],
      "metadata": {
        "colab": {
          "base_uri": "https://localhost:8080/"
        },
        "id": "JDNzK0qxXVkT",
        "outputId": "e819b827-1b30-49e8-b72f-310a687755ff"
      },
      "execution_count": null,
      "outputs": [
        {
          "output_type": "execute_result",
          "data": {
            "text/plain": [
              "True"
            ]
          },
          "metadata": {},
          "execution_count": 58
        }
      ]
    },
    {
      "cell_type": "code",
      "source": [
        "# Set device type\n",
        "device = \"cuda\" if torch.cuda.is_available() else \"cpu\"\n",
        "device"
      ],
      "metadata": {
        "colab": {
          "base_uri": "https://localhost:8080/",
          "height": 36
        },
        "id": "1AL8PPZfXOFm",
        "outputId": "d655269d-4fbc-4677-d15a-cbdae83b68c8"
      },
      "execution_count": null,
      "outputs": [
        {
          "output_type": "execute_result",
          "data": {
            "text/plain": [
              "'cuda'"
            ],
            "application/vnd.google.colaboratory.intrinsic+json": {
              "type": "string"
            }
          },
          "metadata": {},
          "execution_count": 59
        }
      ]
    },
    {
      "cell_type": "code",
      "source": [
        "# Create tensor (default on CPU)\n",
        "tensor = torch.tensor([1, 2, 3])\n",
        "\n",
        "# Tensor not on GPU\n",
        "print(tensor, tensor.device)\n",
        "\n",
        "# Move tensor to GPU (if available)\n",
        "tensor_on_gpu = tensor.to(device)\n",
        "tensor_on_gpu"
      ],
      "metadata": {
        "colab": {
          "base_uri": "https://localhost:8080/"
        },
        "id": "K46QAgeeNv4P",
        "outputId": "0282b955-0a62-4576-f258-3a3daf0dbc01"
      },
      "execution_count": null,
      "outputs": [
        {
          "output_type": "stream",
          "name": "stdout",
          "text": [
            "tensor([1, 2, 3]) cpu\n"
          ]
        },
        {
          "output_type": "execute_result",
          "data": {
            "text/plain": [
              "tensor([1, 2, 3], device='cuda:0')"
            ]
          },
          "metadata": {},
          "execution_count": 60
        }
      ]
    },
    {
      "cell_type": "markdown",
      "source": [
        "## 4. Moving tensors back to the CPU"
      ],
      "metadata": {
        "id": "FMDlNPprOPwz"
      }
    },
    {
      "cell_type": "code",
      "source": [
        "# If tensor is on GPU, can't transform it to NumPy (this will error)\n",
        "# tensor_on_gpu.numpy()"
      ],
      "metadata": {
        "id": "OiR-iZCBNySw"
      },
      "execution_count": null,
      "outputs": []
    },
    {
      "cell_type": "code",
      "source": [
        "# Instead, copy the tensor back to cpu\n",
        "tensor_back_on_cpu = tensor_on_gpu.cpu().numpy()\n",
        "tensor_back_on_cpu"
      ],
      "metadata": {
        "colab": {
          "base_uri": "https://localhost:8080/"
        },
        "id": "eW_JfzNOOvoI",
        "outputId": "22c092aa-b175-47bc-c86b-bbb92114a625"
      },
      "execution_count": null,
      "outputs": [
        {
          "output_type": "execute_result",
          "data": {
            "text/plain": [
              "array([1, 2, 3])"
            ]
          },
          "metadata": {},
          "execution_count": 62
        }
      ]
    },
    {
      "cell_type": "markdown",
      "source": [
        "# Exercies"
      ],
      "metadata": {
        "id": "NlnLj0FDQxL1"
      }
    },
    {
      "cell_type": "markdown",
      "source": [
        "## 2. Create a random tensor with shape (7, 7)."
      ],
      "metadata": {
        "id": "IrqMLDK0Q9cw"
      }
    },
    {
      "cell_type": "code",
      "source": [
        "import torch\n",
        "tpl = (7,7)\n",
        "rand = torch.rand(tpl)\n",
        "rand.shape"
      ],
      "metadata": {
        "colab": {
          "base_uri": "https://localhost:8080/"
        },
        "id": "p8USxJyGQ2_Y",
        "outputId": "cfdaf9f3-4d2b-42a5-f79d-34ec633a0ce7"
      },
      "execution_count": null,
      "outputs": [
        {
          "output_type": "execute_result",
          "data": {
            "text/plain": [
              "torch.Size([7, 7])"
            ]
          },
          "metadata": {},
          "execution_count": 63
        }
      ]
    },
    {
      "cell_type": "markdown",
      "source": [
        "## 3. Perform a matrix multiplication on the tensor from 2 with another random tensor with shape (1, 7) (hint: you may have to transpose the second tensor)."
      ],
      "metadata": {
        "id": "LPDfviSqRk9f"
      }
    },
    {
      "cell_type": "code",
      "source": [
        "t2 = torch.rand((1,7))\n",
        "res = torch.mm(t2, rand)\n",
        "res.shape, res"
      ],
      "metadata": {
        "colab": {
          "base_uri": "https://localhost:8080/"
        },
        "id": "Yw6bKMuHRXza",
        "outputId": "327b422a-7cdc-4de4-d48e-81ea8520d140"
      },
      "execution_count": null,
      "outputs": [
        {
          "output_type": "execute_result",
          "data": {
            "text/plain": [
              "(torch.Size([1, 7]),\n",
              " tensor([[1.0677, 1.3110, 1.9316, 1.6545, 1.2132, 1.0511, 1.4809]]))"
            ]
          },
          "metadata": {},
          "execution_count": 64
        }
      ]
    },
    {
      "cell_type": "markdown",
      "source": [
        "## 4. Set the random seed to 0 and do 2 & 3 over again."
      ],
      "metadata": {
        "id": "WsVB-ihnSg51"
      }
    },
    {
      "cell_type": "code",
      "source": [
        "seed = 0\n",
        "torch.random.manual_seed(seed)\n",
        "rand = torch.rand((7,7))\n",
        "\n",
        "torch.random.manual_seed(seed)\n",
        "t2 = torch.rand((1,7))\n",
        "\n",
        "res = torch.mm(t2, rand)\n",
        "\n",
        "rand, t2, res, res.shape"
      ],
      "metadata": {
        "colab": {
          "base_uri": "https://localhost:8080/"
        },
        "id": "VJZcnK1FSSCu",
        "outputId": "6a1e4cc2-95e9-4aa6-c609-5035ce58c993"
      },
      "execution_count": null,
      "outputs": [
        {
          "output_type": "execute_result",
          "data": {
            "text/plain": [
              "(tensor([[0.4963, 0.7682, 0.0885, 0.1320, 0.3074, 0.6341, 0.4901],\n",
              "         [0.8964, 0.4556, 0.6323, 0.3489, 0.4017, 0.0223, 0.1689],\n",
              "         [0.2939, 0.5185, 0.6977, 0.8000, 0.1610, 0.2823, 0.6816],\n",
              "         [0.9152, 0.3971, 0.8742, 0.4194, 0.5529, 0.9527, 0.0362],\n",
              "         [0.1852, 0.3734, 0.3051, 0.9320, 0.1759, 0.2698, 0.1507],\n",
              "         [0.0317, 0.2081, 0.9298, 0.7231, 0.7423, 0.5263, 0.2437],\n",
              "         [0.5846, 0.0332, 0.1387, 0.2422, 0.8155, 0.7932, 0.2783]]),\n",
              " tensor([[0.4963, 0.7682, 0.0885, 0.1320, 0.3074, 0.6341, 0.4901]]),\n",
              " tensor([[1.4453, 1.0926, 1.4581, 1.3235, 1.4729, 1.2880, 0.7752]]),\n",
              " torch.Size([1, 7]))"
            ]
          },
          "metadata": {},
          "execution_count": 65
        }
      ]
    },
    {
      "cell_type": "markdown",
      "source": [
        "## 5. Speaking of random seeds, we saw how to set it with torch.manual_seed() but is there a GPU equivalent? (hint: you'll need to look into the documentation for torch.cuda for this one)"
      ],
      "metadata": {
        "id": "HHsdqjeQTQV6"
      }
    },
    {
      "cell_type": "markdown",
      "source": [
        "- If there is, set the GPU random seed to 1234.\n"
      ],
      "metadata": {
        "id": "TsXu_dV3T1r8"
      }
    },
    {
      "cell_type": "code",
      "source": [
        "seed = 1234\n",
        "torch.cuda.manual_seed(seed)\n",
        "rand = torch.rand((7,7))\n",
        "\n",
        "torch.cuda.manual_seed(seed)\n",
        "t2 = torch.rand((1,7))\n",
        "\n",
        "res = torch.mm(t2, rand)\n",
        "\n",
        "rand, t2, res, res.shape"
      ],
      "metadata": {
        "colab": {
          "base_uri": "https://localhost:8080/"
        },
        "id": "wYq70kQjTSJi",
        "outputId": "6ced97e5-4d8a-46b2-9431-3a42dfdb9536"
      },
      "execution_count": null,
      "outputs": [
        {
          "output_type": "execute_result",
          "data": {
            "text/plain": [
              "(tensor([[0.8964, 0.4556, 0.6323, 0.3489, 0.4017, 0.0223, 0.1689],\n",
              "         [0.2939, 0.5185, 0.6977, 0.8000, 0.1610, 0.2823, 0.6816],\n",
              "         [0.9152, 0.3971, 0.8742, 0.4194, 0.5529, 0.9527, 0.0362],\n",
              "         [0.1852, 0.3734, 0.3051, 0.9320, 0.1759, 0.2698, 0.1507],\n",
              "         [0.0317, 0.2081, 0.9298, 0.7231, 0.7423, 0.5263, 0.2437],\n",
              "         [0.5846, 0.0332, 0.1387, 0.2422, 0.8155, 0.7932, 0.2783],\n",
              "         [0.4820, 0.8198, 0.9971, 0.6984, 0.5675, 0.8352, 0.2056]]),\n",
              " tensor([[0.5932, 0.1123, 0.1535, 0.2417, 0.7262, 0.7011, 0.2038]]),\n",
              " tensor([[1.2811, 0.8212, 1.6371, 1.4238, 1.6102, 1.3649, 0.6326]]),\n",
              " torch.Size([1, 7]))"
            ]
          },
          "metadata": {},
          "execution_count": 66
        }
      ]
    },
    {
      "cell_type": "markdown",
      "source": [
        "## 6. Create two random tensors of shape (2, 3) and send them both to the GPU (you'll need access to a GPU for this). Set torch.manual_seed(1234) when creating the tensors (this doesn't have to be the GPU random seed). The output should be something like:"
      ],
      "metadata": {
        "id": "g3lx75h9UTC0"
      }
    },
    {
      "cell_type": "code",
      "source": [
        "# Check for GPU\n",
        "import torch\n",
        "torch.manual_seed(1234)\n",
        "device = 'cuda' if torch.cuda.is_available() else 'cpu'\n",
        "\n",
        "tpl = (2,3)\n",
        "rand0 = torch.rand(tpl).to(device)\n",
        "rand1 = torch.rand(tpl).to(device)\n",
        "\n",
        "rand0, rand1"
      ],
      "metadata": {
        "colab": {
          "base_uri": "https://localhost:8080/"
        },
        "id": "W1NXK55oUVMF",
        "outputId": "37c52a76-ea52-4943-c635-8c5e9a3c18e1"
      },
      "execution_count": null,
      "outputs": [
        {
          "output_type": "execute_result",
          "data": {
            "text/plain": [
              "(tensor([[0.0290, 0.4019, 0.2598],\n",
              "         [0.3666, 0.0583, 0.7006]], device='cuda:0'),\n",
              " tensor([[0.0518, 0.4681, 0.6738],\n",
              "         [0.3315, 0.7837, 0.5631]], device='cuda:0'))"
            ]
          },
          "metadata": {},
          "execution_count": 67
        }
      ]
    },
    {
      "cell_type": "markdown",
      "source": [
        "## 7. Perform a matrix multiplication on the tensors you created in 6 (again, you may have to adjust the shapes of one of the tensors)."
      ],
      "metadata": {
        "id": "zD0iaDHyYc6n"
      }
    },
    {
      "cell_type": "code",
      "source": [
        "mult = torch.mm(rand0, rand1.T)\n",
        "mult"
      ],
      "metadata": {
        "colab": {
          "base_uri": "https://localhost:8080/"
        },
        "id": "P5SjXgVRVZzx",
        "outputId": "756c4ec8-9bca-4b14-891f-fed3f8116460"
      },
      "execution_count": null,
      "outputs": [
        {
          "output_type": "execute_result",
          "data": {
            "text/plain": [
              "tensor([[0.3647, 0.4709],\n",
              "        [0.5184, 0.5617]], device='cuda:0')"
            ]
          },
          "metadata": {},
          "execution_count": 68
        }
      ]
    },
    {
      "cell_type": "markdown",
      "source": [
        "## 8. Find the maximum and minimum values of the output of 7."
      ],
      "metadata": {
        "id": "QLBZ2iLjY2lV"
      }
    },
    {
      "cell_type": "code",
      "source": [
        "mult.max(), mult.min()"
      ],
      "metadata": {
        "colab": {
          "base_uri": "https://localhost:8080/"
        },
        "id": "fyQmEnRFY1V-",
        "outputId": "da8db486-5f5f-401c-deb0-9b5041f72922"
      },
      "execution_count": null,
      "outputs": [
        {
          "output_type": "execute_result",
          "data": {
            "text/plain": [
              "(tensor(0.5617, device='cuda:0'), tensor(0.3647, device='cuda:0'))"
            ]
          },
          "metadata": {},
          "execution_count": 69
        }
      ]
    },
    {
      "cell_type": "markdown",
      "source": [
        "## 9. Find the maximum and minimum index values of the output of 7."
      ],
      "metadata": {
        "id": "L5XobyM-ZE9g"
      }
    },
    {
      "cell_type": "code",
      "source": [
        "mult.argmax(), mult.argmin()"
      ],
      "metadata": {
        "colab": {
          "base_uri": "https://localhost:8080/"
        },
        "id": "HcB_tj3XZF8E",
        "outputId": "3384c004-cc15-4880-a0d2-464e9d0121fa"
      },
      "execution_count": null,
      "outputs": [
        {
          "output_type": "execute_result",
          "data": {
            "text/plain": [
              "(tensor(3, device='cuda:0'), tensor(0, device='cuda:0'))"
            ]
          },
          "metadata": {},
          "execution_count": 70
        }
      ]
    },
    {
      "cell_type": "markdown",
      "source": [
        "## 10. Make a random tensor with shape (1, 1, 1, 10) and then create a new tensor with all the 1 dimensions removed to be left with a tensor of shape (10). Set the seed to 7 when you create it and print out the first tensor and it's shape as well as the second tensor and it's shape."
      ],
      "metadata": {
        "id": "_Vu48vt8Zc2E"
      }
    },
    {
      "cell_type": "code",
      "source": [
        "tpl = (1,1,1,10)\n",
        "seed = 7\n",
        "torch.manual_seed(seed)\n",
        "\n",
        "t1 = torch.rand(tpl)\n",
        "t2 = t1.squeeze()\n",
        "\n",
        "t1, t1.shape, t2, t2.shape"
      ],
      "metadata": {
        "colab": {
          "base_uri": "https://localhost:8080/"
        },
        "id": "sQMBfDQHZd6q",
        "outputId": "ef157922-3d8c-4154-9a2c-8b9485caaf2b"
      },
      "execution_count": null,
      "outputs": [
        {
          "output_type": "execute_result",
          "data": {
            "text/plain": [
              "(tensor([[[[0.5349, 0.1988, 0.6592, 0.6569, 0.2328, 0.4251, 0.2071, 0.6297,\n",
              "            0.3653, 0.8513]]]]),\n",
              " torch.Size([1, 1, 1, 10]),\n",
              " tensor([0.5349, 0.1988, 0.6592, 0.6569, 0.2328, 0.4251, 0.2071, 0.6297, 0.3653,\n",
              "         0.8513]),\n",
              " torch.Size([10]))"
            ]
          },
          "metadata": {},
          "execution_count": 71
        }
      ]
    }
  ]
}